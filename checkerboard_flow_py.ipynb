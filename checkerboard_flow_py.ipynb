{
  "nbformat": 4,
  "nbformat_minor": 0,
  "metadata": {
    "colab": {
      "provenance": [],
      "authorship_tag": "ABX9TyMAfVa6nMHT67jL/Lg8usQt",
      "include_colab_link": true
    },
    "kernelspec": {
      "name": "python3",
      "display_name": "Python 3"
    },
    "language_info": {
      "name": "python"
    }
  },
  "cells": [
    {
      "cell_type": "markdown",
      "metadata": {
        "id": "view-in-github",
        "colab_type": "text"
      },
      "source": [
        "<a href=\"https://colab.research.google.com/github/adyasha95/feature-tracking-opencv-demos/blob/main/checkerboard_flow_py.ipynb\" target=\"_parent\"><img src=\"https://colab.research.google.com/assets/colab-badge.svg\" alt=\"Open In Colab\"/></a>"
      ]
    },
    {
      "cell_type": "code",
      "execution_count": null,
      "metadata": {
        "id": "lupXcXuDmXEL"
      },
      "outputs": [],
      "source": [
        "#!/usr/bin/env python3\n",
        "\"\"\"\n",
        "Lucas–Kanade optical flow on a synthetic moving checkerboard.\n",
        "Generates a short sequence, detects corners on the first frame,\n",
        "and tracks them across frames.\n",
        "\n",
        "Usage:\n",
        "  python checkerboard_flow.py\n",
        "\"\"\"\n",
        "\n",
        "import numpy as np\n",
        "import matplotlib.pyplot as plt\n",
        "import cv2\n",
        "\n",
        "def make_checkerboard(H=480, W=640, s=24, shift_xy=(0, 0)):\n",
        "    \"\"\"Create a grayscale checkerboard, optionally shifted by (dx, dy).\"\"\"\n",
        "    img = np.zeros((H, W), dtype=np.uint8)\n",
        "    dx, dy = shift_xy\n",
        "    for i in range(0, H, 2 * s):\n",
        "        for j in range(0, W, 2 * s):\n",
        "            img[i + dy : i + s + dy, j + dx : j + s + dx] = 255\n",
        "            img[i + s + dy : i + 2 * s + dy, j + s + dx : j + 2 * s + dx] = 255\n",
        "    return img\n",
        "\n",
        "def main():\n",
        "    # Build a sequence: translation of +2 px (x) and +1 px (y) per frame\n",
        "    frames = [make_checkerboard(shift_xy=(k * 2, k * 1)) for k in range(20)]\n",
        "\n",
        "    # Detect Shi–Tomasi corners on first frame\n",
        "    p0 = cv2.goodFeaturesToTrack(frames[0], maxCorners=150, qualityLevel=0.01, minDistance=8, blockSize=7)\n",
        "    if p0 is None:\n",
        "        raise SystemExit(\"No corners found on the synthetic image. Try changing sizes/params.\")\n",
        "    p0 = np.float32(p0)\n",
        "\n",
        "    # Lucas–Kanade parameters\n",
        "    lk_params = dict(\n",
        "        winSize=(21, 21),\n",
        "        maxLevel=3,\n",
        "        criteria=(cv2.TERM_CRITERIA_EPS | cv2.TERM_CRITERIA_COUNT, 30, 0.01),\n",
        "    )\n",
        "\n",
        "    mask = np.zeros((frames[0].shape[0], frames[0].shape[1], 3), dtype=np.uint8)  # to accumulate tracks\n",
        "    prev = frames[0]\n",
        "\n",
        "    out_img = None\n",
        "    for i in range(1, len(frames)):\n",
        "        curr = frames[i]\n",
        "        p1, st, err = cv2.calcOpticalFlowPyrLK(prev, curr, p0, None, **lk_params)\n",
        "        if p1 is None:\n",
        "            break\n",
        "\n",
        "        good_new = p1[st == 1]\n",
        "        good_old = p0[st == 1]\n",
        "\n",
        "        frame_bgr = cv2.cvtColor(curr, cv2.COLOR_GRAY2BGR)\n",
        "        for (x1, y1), (x0, y0) in zip(good_new, good_old):\n",
        "            x1, y1, x0, y0 = int(x1), int(y1), int(x0), int(y0)\n",
        "            mask = cv2.line(mask, (x1, y1), (x0, y0), (0, 255, 0), 1)\n",
        "            frame_bgr = cv2.circle(frame_bgr, (x1, y1), 2, (0, 0, 255), -1)\n",
        "\n",
        "        out_img = cv2.add(frame_bgr, mask)\n",
        "        prev = curr.copy()\n",
        "        p0 = good_new.reshape(-1, 1, 2)\n",
        "\n",
        "    # Show final frame with tracks\n",
        "    if out_img is not None:\n",
        "        plt.figure(figsize=(8, 6))\n",
        "        plt.imshow(out_img[..., ::-1])  # BGR->RGB\n",
        "        plt.title(\"Optical Flow Tracks (Synthetic Checkerboard)\")\n",
        "        plt.axis(\"off\")\n",
        "        plt.tight_layout()\n",
        "        plt.show()\n",
        "\n",
        "if __name__ == \"__main__\":\n",
        "    main()"
      ]
    }
  ]
}